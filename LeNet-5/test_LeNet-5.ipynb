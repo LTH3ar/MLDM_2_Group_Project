{
 "cells": [
  {
   "cell_type": "markdown",
   "source": [
    "# 1. Importing Libraries"
   ],
   "metadata": {
    "collapsed": false
   },
   "id": "8d2a3f2014bd2cc1"
  },
  {
   "cell_type": "code",
   "outputs": [],
   "source": [
    "# Importing Libraries\n",
    "import torch\n",
    "import torch.nn as nn\n",
    "from torch.utils.data import DataLoader\n",
    "from torch.utils.tensorboard import SummaryWriter\n",
    "from torchvision import datasets\n",
    "from torchvision.transforms import transforms\n",
    "from torchmetrics import Accuracy\n",
    "from torchinfo import summary\n",
    "import matplotlib\n",
    "import matplotlib.pyplot as plt\n",
    "import numpy as np\n",
    "import os\n",
    "import datetime"
   ],
   "metadata": {
    "collapsed": true,
    "ExecuteTime": {
     "end_time": "2023-12-31T17:32:46.799197266Z",
     "start_time": "2023-12-31T17:32:46.771208993Z"
    }
   },
   "id": "initial_id",
   "execution_count": 16
  },
  {
   "cell_type": "markdown",
   "source": [
    "# 2. Setting up the device"
   ],
   "metadata": {
    "collapsed": false
   },
   "id": "e7fbda54b585e3cc"
  },
  {
   "cell_type": "code",
   "outputs": [
    {
     "name": "stdout",
     "output_type": "stream",
     "text": [
      "cuda\n"
     ]
    }
   ],
   "source": [
    "# Setting Device\n",
    "device = torch.device('cuda' if torch.cuda.is_available() else 'cpu')\n",
    "print(device)"
   ],
   "metadata": {
    "collapsed": false,
    "ExecuteTime": {
     "end_time": "2023-12-31T17:32:46.800866195Z",
     "start_time": "2023-12-31T17:32:46.799528513Z"
    }
   },
   "id": "683dbc9a19835f95",
   "execution_count": 17
  },
  {
   "cell_type": "markdown",
   "source": [
    "# 3. Preparing the test_data"
   ],
   "metadata": {
    "collapsed": false
   },
   "id": "4e1ee151902d9175"
  },
  {
   "cell_type": "code",
   "outputs": [],
   "source": [
    "# Preparing Input Data\n",
    "# prepare the dataset MNIST(1x28x28) for LeNet\n",
    "param_transform = transforms.Compose([\n",
    "    transforms.ToTensor(),\n",
    "    transforms.Normalize(mean=[0.1307], std=[0.3081])  # Normalize to [-1, 1] range\n",
    "])"
   ],
   "metadata": {
    "collapsed": false,
    "ExecuteTime": {
     "end_time": "2023-12-31T17:32:46.812827037Z",
     "start_time": "2023-12-31T17:32:46.803043526Z"
    }
   },
   "id": "c0832c7c80df6644",
   "execution_count": 18
  },
  {
   "cell_type": "code",
   "outputs": [
    {
     "name": "stdout",
     "output_type": "stream",
     "text": [
      "Test dataset:\n",
      " - Number of datapoints: 60000\n",
      " - Image Shape: torch.Size([1, 28, 28])\n",
      " - Number of classes: 10\n",
      " - Samples number all classes: tensor([5923, 6742, 5958, 6131, 5842, 5421, 5918, 6265, 5851, 5949])\n"
     ]
    }
   ],
   "source": [
    "# Load the dataset\n",
    "test_data = datasets.MNIST(\n",
    "    root='./dataset', \n",
    "    train=True, \n",
    "    transform=param_transform, \n",
    "    download=True)\n",
    "\n",
    "# Dataset summary\n",
    "print('Test dataset:')\n",
    "print(' - Number of datapoints: {}'.format(len(test_data)))\n",
    "print(' - Image Shape: {}'.format(test_data[0][0].shape))\n",
    "print(' - Number of classes: {}'.format(len(test_data.classes)))\n",
    "print(\" - Samples number all classes: {}\".format(test_data.targets.bincount()))"
   ],
   "metadata": {
    "collapsed": false,
    "ExecuteTime": {
     "end_time": "2023-12-31T17:32:46.854985644Z",
     "start_time": "2023-12-31T17:32:46.812361475Z"
    }
   },
   "id": "a1a00d66cb86c92c",
   "execution_count": 19
  },
  {
   "cell_type": "code",
   "outputs": [
    {
     "name": "stdout",
     "output_type": "stream",
     "text": [
      "Test dataset for visualization:\n",
      " - Number of datapoints: 10\n",
      " - Image Shape: torch.Size([1, 28, 28])\n"
     ]
    }
   ],
   "source": [
    "# Dataset for visualization\n",
    "test_data_vis = datasets.MNIST(\n",
    "    root='./dataset', \n",
    "    train=True, \n",
    "    transform=param_transform, \n",
    "    download=True)\n",
    "\n",
    "# get the 10 images from the test set for visualization\n",
    "vis_size = 10\n",
    "test_data_vis = torch.utils.data.Subset(test_data_vis, range(vis_size))\n",
    "\n",
    "# Dataset summary\n",
    "print('Test dataset for visualization:')\n",
    "print(' - Number of datapoints: {}'.format(len(test_data_vis)))\n",
    "print(' - Image Shape: {}'.format(test_data_vis[0][0].shape))\n",
    "\n",
    "# loader\n",
    "test_loader_vis = DataLoader(test_data_vis, batch_size=vis_size, shuffle=True)"
   ],
   "metadata": {
    "collapsed": false,
    "ExecuteTime": {
     "end_time": "2023-12-31T17:32:46.900643154Z",
     "start_time": "2023-12-31T17:32:46.854599152Z"
    }
   },
   "id": "33687e8221f2e0bf",
   "execution_count": 20
  },
  {
   "cell_type": "code",
   "outputs": [
    {
     "name": "stdout",
     "output_type": "stream",
     "text": [
      "Test dataloader:\n",
      " - Number of batches: 469\n"
     ]
    }
   ],
   "source": [
    "# Create dataloaders\n",
    "BATCH_SIZE = 128 if torch.cuda.is_available() else 64\n",
    "test_loader = DataLoader(test_data, batch_size=BATCH_SIZE, shuffle=True)\n",
    "\n",
    "# Dataloader summary\n",
    "print('Test dataloader:')\n",
    "print(' - Number of batches: {}'.format(len(test_loader)))"
   ],
   "metadata": {
    "collapsed": false,
    "ExecuteTime": {
     "end_time": "2023-12-31T17:32:46.901487252Z",
     "start_time": "2023-12-31T17:32:46.900504732Z"
    }
   },
   "id": "f17c02cc32e3e3ac",
   "execution_count": 21
  },
  {
   "cell_type": "markdown",
   "source": [
    "# 4. Loading the model"
   ],
   "metadata": {
    "collapsed": false
   },
   "id": "850d12ca1ef5d948"
  },
  {
   "cell_type": "code",
   "outputs": [],
   "source": [
    "# Defining Model\n",
    "# LeNet-5 architecture implementation\n",
    "class LeNet5(nn.Module):\n",
    "    def __init__(self):\n",
    "        super().__init__()\n",
    "        # Feature extractor\n",
    "        self.feature = nn.Sequential(\n",
    "            # Convolutional layers\n",
    "            \n",
    "            # ============================================================================== #\n",
    "            # First conv layer\n",
    "            # input: 1 x 28 x 28 --> padding = 2 --> 1 x 32 x 32 --> 6 x 28 x 28\n",
    "            nn.Conv2d(in_channels=1, out_channels=6, kernel_size=5, stride=1, padding=2),\n",
    "            # activation function\n",
    "            nn.Sigmoid(),\n",
    "            # pooling layer 14 x 14\n",
    "            nn.AvgPool2d(kernel_size=2, stride=2),\n",
    "            # ============================================================================== #\n",
    "            \n",
    "            # ============================================================================== #\n",
    "            # Second conv layer\n",
    "            # input: 6 x 14 x 14 --> 16 x 10 x 10\n",
    "            nn.Conv2d(in_channels=6, out_channels=16, kernel_size=5, stride=1),\n",
    "            # activation function\n",
    "            nn.Sigmoid(),\n",
    "            # pooling layer 5 x 5\n",
    "            nn.AvgPool2d(kernel_size=2, stride=2),\n",
    "            # ============================================================================== #\n",
    "        )\n",
    "\n",
    "        # Classifiertest\n",
    "        self.classifier = nn.Sequential(\n",
    "            # Fully connected layers\n",
    "            \n",
    "            # ============================================================================== #\n",
    "            # First fc layer\n",
    "            # input: 16 x 5 x 5 = 400 --> 120\n",
    "            # flatten\n",
    "            nn.Flatten(),\n",
    "            # fc layer\n",
    "            nn.Linear(in_features=16 * 5 * 5, out_features=120),\n",
    "            # activation function\n",
    "            nn.Sigmoid(), # sigmoid\n",
    "            # ============================================================================== #\n",
    "\n",
    "            # ============================================================================== #\n",
    "            # Second fc layer\n",
    "            nn.Linear(in_features=120, out_features=84),\n",
    "\n",
    "            # activation function\n",
    "            nn.Sigmoid(), # sigmoid\n",
    "            # ============================================================================== #\n",
    "            \n",
    "            # ============================================================================== #\n",
    "            # Third fc layer\n",
    "            nn.Linear(in_features=84, out_features=10)\n",
    "            # ============================================================================== #\n",
    "        )\n",
    "\n",
    "    def forward(self, x):\n",
    "        return self.classifier(self.feature(x))"
   ],
   "metadata": {
    "collapsed": false,
    "ExecuteTime": {
     "end_time": "2023-12-31T17:32:46.901861200Z",
     "start_time": "2023-12-31T17:32:46.900646350Z"
    }
   },
   "id": "5f50ee3fa0bec292",
   "execution_count": 22
  },
  {
   "cell_type": "code",
   "outputs": [
    {
     "name": "stdout",
     "output_type": "stream",
     "text": [
      "LeNet5(\n",
      "  (feature): Sequential(\n",
      "    (0): Conv2d(1, 6, kernel_size=(5, 5), stride=(1, 1), padding=(2, 2))\n",
      "    (1): Sigmoid()\n",
      "    (2): AvgPool2d(kernel_size=2, stride=2, padding=0)\n",
      "    (3): Conv2d(6, 16, kernel_size=(5, 5), stride=(1, 1))\n",
      "    (4): Sigmoid()\n",
      "    (5): AvgPool2d(kernel_size=2, stride=2, padding=0)\n",
      "  )\n",
      "  (classifier): Sequential(\n",
      "    (0): Flatten(start_dim=1, end_dim=-1)\n",
      "    (1): Linear(in_features=400, out_features=120, bias=True)\n",
      "    (2): Sigmoid()\n",
      "    (3): Linear(in_features=120, out_features=84, bias=True)\n",
      "    (4): Sigmoid()\n",
      "    (5): Linear(in_features=84, out_features=10, bias=True)\n",
      "  )\n",
      ")\n",
      "==========================================================================================\n",
      "Layer (type:depth-idx)                   Output Shape              Param #\n",
      "==========================================================================================\n",
      "LeNet5                                   [1, 10]                   --\n",
      "├─Sequential: 1-1                        [1, 16, 5, 5]             --\n",
      "│    └─0.weight                                                    ├─150\n",
      "│    └─0.bias                                                      ├─6\n",
      "│    └─3.weight                                                    ├─2,400\n",
      "│    └─3.bias                                                      └─16\n",
      "│    └─Conv2d: 2-1                       [1, 6, 28, 28]            156\n",
      "│    │    └─weight                                                 ├─150\n",
      "│    │    └─bias                                                   └─6\n",
      "│    └─Sigmoid: 2-2                      [1, 6, 28, 28]            --\n",
      "│    └─AvgPool2d: 2-3                    [1, 6, 14, 14]            --\n",
      "│    └─Conv2d: 2-4                       [1, 16, 10, 10]           2,416\n",
      "│    │    └─weight                                                 ├─2,400\n",
      "│    │    └─bias                                                   └─16\n",
      "│    └─Sigmoid: 2-5                      [1, 16, 10, 10]           --\n",
      "│    └─AvgPool2d: 2-6                    [1, 16, 5, 5]             --\n",
      "├─Sequential: 1-2                        [1, 10]                   --\n",
      "│    └─1.weight                                                    ├─48,000\n",
      "│    └─1.bias                                                      ├─120\n",
      "│    └─3.weight                                                    ├─10,080\n",
      "│    └─3.bias                                                      ├─84\n",
      "│    └─5.weight                                                    ├─840\n",
      "│    └─5.bias                                                      └─10\n",
      "│    └─Flatten: 2-7                      [1, 400]                  --\n",
      "│    └─Linear: 2-8                       [1, 120]                  48,120\n",
      "│    │    └─weight                                                 ├─48,000\n",
      "│    │    └─bias                                                   └─120\n",
      "│    └─Sigmoid: 2-9                      [1, 120]                  --\n",
      "│    └─Linear: 2-10                      [1, 84]                   10,164\n",
      "│    │    └─weight                                                 ├─10,080\n",
      "│    │    └─bias                                                   └─84\n",
      "│    └─Sigmoid: 2-11                     [1, 84]                   --\n",
      "│    └─Linear: 2-12                      [1, 10]                   850\n",
      "│    │    └─weight                                                 ├─840\n",
      "│    │    └─bias                                                   └─10\n",
      "==========================================================================================\n",
      "Total params: 61,706\n",
      "Trainable params: 61,706\n",
      "Non-trainable params: 0\n",
      "Total mult-adds (Units.MEGABYTES): 0.42\n",
      "==========================================================================================\n",
      "Input size (MB): 0.00\n",
      "Forward/backward pass size (MB): 0.05\n",
      "Params size (MB): 0.25\n",
      "Estimated Total Size (MB): 0.30\n",
      "==========================================================================================\n"
     ]
    },
    {
     "data": {
      "text/plain": "LeNet5(\n  (feature): Sequential(\n    (0): Conv2d(1, 6, kernel_size=(5, 5), stride=(1, 1), padding=(2, 2))\n    (1): Sigmoid()\n    (2): AvgPool2d(kernel_size=2, stride=2, padding=0)\n    (3): Conv2d(6, 16, kernel_size=(5, 5), stride=(1, 1))\n    (4): Sigmoid()\n    (5): AvgPool2d(kernel_size=2, stride=2, padding=0)\n  )\n  (classifier): Sequential(\n    (0): Flatten(start_dim=1, end_dim=-1)\n    (1): Linear(in_features=400, out_features=120, bias=True)\n    (2): Sigmoid()\n    (3): Linear(in_features=120, out_features=84, bias=True)\n    (4): Sigmoid()\n    (5): Linear(in_features=84, out_features=10, bias=True)\n  )\n)"
     },
     "execution_count": 23,
     "metadata": {},
     "output_type": "execute_result"
    }
   ],
   "source": [
    "# Load the model\n",
    "model = LeNet5().to(device)\n",
    "print(model)\n",
    "\n",
    "# Model summary\n",
    "summary(model, input_size=(1, 1, 28, 28), verbose=2, device=device)\n",
    "\n",
    "# Load the model weights\n",
    "model_name = 'LeNet5_v1_2024_01_01-00_30_40.pth'\n",
    "model.load_state_dict(torch.load(os.path.join('models', model_name), map_location=device))\n",
    "\n",
    "# Set the model to evaluation mode\n",
    "model.eval()"
   ],
   "metadata": {
    "collapsed": false,
    "ExecuteTime": {
     "end_time": "2023-12-31T17:32:46.909268131Z",
     "start_time": "2023-12-31T17:32:46.900733435Z"
    }
   },
   "id": "effe2f732b3ca91a",
   "execution_count": 23
  },
  {
   "cell_type": "code",
   "outputs": [],
   "source": [
    "# Define the loss function\n",
    "loss_fn = nn.CrossEntropyLoss().to(device)\n",
    "accuracy = Accuracy(task='multiclass', num_classes=10).to(device)"
   ],
   "metadata": {
    "collapsed": false,
    "ExecuteTime": {
     "end_time": "2023-12-31T17:32:46.913820369Z",
     "start_time": "2023-12-31T17:32:46.910772279Z"
    }
   },
   "id": "1380f9ccb14480f4",
   "execution_count": 24
  },
  {
   "cell_type": "code",
   "outputs": [],
   "source": [
    "# Log the test\n",
    "date_time = datetime.datetime.now().strftime(\"%Y_%m_%d-%H_%M_%S\")\n",
    "test_folder_name = f\"test_{model_name}_{date_time}\"\n",
    "log_dir = os.path.join('test_logs', test_folder_name)\n",
    "os.makedirs(log_dir, exist_ok=True)\n",
    "writer = SummaryWriter(log_dir=log_dir)"
   ],
   "metadata": {
    "collapsed": false,
    "ExecuteTime": {
     "end_time": "2023-12-31T17:32:46.952732530Z",
     "start_time": "2023-12-31T17:32:46.912723853Z"
    }
   },
   "id": "ab78033ed9894490",
   "execution_count": 25
  },
  {
   "cell_type": "code",
   "outputs": [
    {
     "name": "stdout",
     "output_type": "stream",
     "text": [
      "Test Batch 0/469: Loss: 0.079258, Accuracy: 0.976562\n",
      "Test Batch 10/469: Loss: 0.046563, Accuracy: 0.976562\n",
      "Test Batch 20/469: Loss: 0.028367, Accuracy: 0.992188\n",
      "Test Batch 30/469: Loss: 0.071419, Accuracy: 0.976562\n",
      "Test Batch 40/469: Loss: 0.088787, Accuracy: 0.976562\n",
      "Test Batch 50/469: Loss: 0.066602, Accuracy: 0.992188\n",
      "Test Batch 60/469: Loss: 0.062260, Accuracy: 0.984375\n",
      "Test Batch 70/469: Loss: 0.052915, Accuracy: 0.976562\n",
      "Test Batch 80/469: Loss: 0.051607, Accuracy: 0.976562\n",
      "Test Batch 90/469: Loss: 0.066062, Accuracy: 0.984375\n",
      "Test Batch 100/469: Loss: 0.055860, Accuracy: 0.984375\n",
      "Test Batch 110/469: Loss: 0.085871, Accuracy: 0.968750\n",
      "Test Batch 120/469: Loss: 0.028351, Accuracy: 0.992188\n",
      "Test Batch 130/469: Loss: 0.042596, Accuracy: 0.992188\n",
      "Test Batch 140/469: Loss: 0.074752, Accuracy: 0.968750\n",
      "Test Batch 150/469: Loss: 0.040892, Accuracy: 0.992188\n",
      "Test Batch 160/469: Loss: 0.065978, Accuracy: 0.968750\n",
      "Test Batch 170/469: Loss: 0.064449, Accuracy: 0.984375\n",
      "Test Batch 180/469: Loss: 0.023273, Accuracy: 0.992188\n",
      "Test Batch 190/469: Loss: 0.047312, Accuracy: 0.984375\n",
      "Test Batch 200/469: Loss: 0.049432, Accuracy: 0.984375\n",
      "Test Batch 210/469: Loss: 0.138346, Accuracy: 0.945312\n",
      "Test Batch 220/469: Loss: 0.013844, Accuracy: 1.000000\n",
      "Test Batch 230/469: Loss: 0.075175, Accuracy: 0.968750\n",
      "Test Batch 240/469: Loss: 0.024303, Accuracy: 0.992188\n",
      "Test Batch 250/469: Loss: 0.053898, Accuracy: 0.984375\n",
      "Test Batch 260/469: Loss: 0.048738, Accuracy: 0.984375\n",
      "Test Batch 270/469: Loss: 0.072962, Accuracy: 0.976562\n",
      "Test Batch 280/469: Loss: 0.037445, Accuracy: 0.984375\n",
      "Test Batch 290/469: Loss: 0.083132, Accuracy: 0.960938\n",
      "Test Batch 300/469: Loss: 0.047464, Accuracy: 0.992188\n",
      "Test Batch 310/469: Loss: 0.019069, Accuracy: 0.992188\n",
      "Test Batch 320/469: Loss: 0.116294, Accuracy: 0.968750\n",
      "Test Batch 330/469: Loss: 0.032222, Accuracy: 0.992188\n",
      "Test Batch 340/469: Loss: 0.057160, Accuracy: 0.984375\n",
      "Test Batch 350/469: Loss: 0.028895, Accuracy: 0.984375\n",
      "Test Batch 360/469: Loss: 0.105690, Accuracy: 0.953125\n",
      "Test Batch 370/469: Loss: 0.061935, Accuracy: 0.984375\n",
      "Test Batch 380/469: Loss: 0.073276, Accuracy: 0.968750\n",
      "Test Batch 390/469: Loss: 0.062416, Accuracy: 0.968750\n",
      "Test Batch 400/469: Loss: 0.031068, Accuracy: 0.992188\n",
      "Test Batch 410/469: Loss: 0.073536, Accuracy: 0.960938\n",
      "Test Batch 420/469: Loss: 0.023671, Accuracy: 0.992188\n",
      "Test Batch 430/469: Loss: 0.030793, Accuracy: 0.984375\n",
      "Test Batch 440/469: Loss: 0.085627, Accuracy: 0.976562\n",
      "Test Batch 450/469: Loss: 0.098080, Accuracy: 0.976562\n",
      "Test Batch 460/469: Loss: 0.190367, Accuracy: 0.953125\n"
     ]
    }
   ],
   "source": [
    "# Test the model\n",
    "y_true = []\n",
    "y_pred = []\n",
    "with torch.no_grad():\n",
    "    for batch_idx, (data, target) in enumerate(test_loader):\n",
    "        # Move the data to device\n",
    "        data = data.to(device)\n",
    "        target = target.to(device)\n",
    "\n",
    "        # Forward pass\n",
    "        output = model(data)\n",
    "        loss = loss_fn(output, target)\n",
    "        acc = accuracy(output, target)\n",
    "        \n",
    "        # save the true and predicted labels for confusion matrix\n",
    "        y_true.extend(target.cpu().numpy())\n",
    "        y_pred.extend(torch.argmax(output, dim=1).cpu().numpy())\n",
    "\n",
    "        # Print the loss and accuracy\n",
    "        if batch_idx % 10 == 0:\n",
    "            print('Test Batch {}/{}: Loss: {:.6f}, Accuracy: {:.6f}'.format(\n",
    "                batch_idx, len(test_loader), loss.item(), acc.item()))\n",
    "            # Log the test Loss/batch, Accuracy/batch\n",
    "            writer.add_scalar('Loss/Batch (Every 10 batch)', loss.item(), batch_idx)\n",
    "            writer.add_scalar('Accuracy/Batch (Every 10 batch)', acc.item(), batch_idx)"
   ],
   "metadata": {
    "collapsed": false,
    "ExecuteTime": {
     "end_time": "2023-12-31T17:32:53.265046224Z",
     "start_time": "2023-12-31T17:32:46.927093024Z"
    }
   },
   "id": "18093e356e8ce545",
   "execution_count": 26
  },
  {
   "cell_type": "code",
   "outputs": [
    {
     "data": {
      "text/plain": "<Figure size 1000x1000 with 10 Axes>",
      "image/png": "[encoded data removed]"
     },
     "metadata": {},
     "output_type": "display_data"
    }
   ],
   "source": [
    "# Randomly select a batch of 10 images(split from the test set)\n",
    "data_vis, target_vis = next(iter(test_loader_vis))\n",
    "data_vis = data_vis.to(device)\n",
    "target_vis = target_vis.to(device)\n",
    "\n",
    "# plot the images in the batch, along with the corresponding labels(predicted and true)\n",
    "with torch.no_grad():\n",
    "    output_vis = model(data_vis)\n",
    "    pred_vis = torch.argmax(output_vis, dim=1)\n",
    "    fig = plt.figure(figsize=(10, 10))\n",
    "    for i in range(vis_size):\n",
    "        ax = fig.add_subplot(1, vis_size, i + 1, xticks=[], yticks=[])\n",
    "        ax.imshow(data_vis[i].cpu().numpy().squeeze(), cmap='gray')\n",
    "        ax.set_title(\"{} ({})\".format(pred_vis[i].item(), target_vis[i].item()),\n",
    "                    color=(\"green\" if pred_vis[i]==target_vis[i] else \"red\"))\n",
    "    plt.savefig(os.path.join(log_dir, 'predictions.png'))\n",
    "    plt.show()"
   ],
   "metadata": {
    "collapsed": false,
    "ExecuteTime": {
     "end_time": "2023-12-31T17:32:53.510373553Z",
     "start_time": "2023-12-31T17:32:53.267472617Z"
    }
   },
   "id": "daa00f2f0e0dac1a",
   "execution_count": 27
  },
  {
   "cell_type": "code",
   "outputs": [
    {
     "data": {
      "text/plain": "<Figure size 640x480 with 2 Axes>",
      "image/png": "[encoded data removed]"
     },
     "metadata": {},
     "output_type": "display_data"
    },
    {
     "name": "stdout",
     "output_type": "stream",
     "text": [
      "              precision    recall  f1-score   support\n",
      "\n",
      "           0       0.99      0.99      0.99      5923\n",
      "           1       0.99      0.99      0.99      6742\n",
      "           2       0.97      0.99      0.98      5958\n",
      "           3       0.98      0.98      0.98      6131\n",
      "           4       0.99      0.98      0.99      5842\n",
      "           5       0.97      0.99      0.98      5421\n",
      "           6       0.99      0.98      0.99      5918\n",
      "           7       0.98      0.99      0.98      6265\n",
      "           8       0.99      0.96      0.98      5851\n",
      "           9       0.98      0.97      0.97      5949\n",
      "\n",
      "    accuracy                           0.98     60000\n",
      "   macro avg       0.98      0.98      0.98     60000\n",
      "weighted avg       0.98      0.98      0.98     60000\n"
     ]
    }
   ],
   "source": [
    "# Confusion matrix all test data\n",
    "from sklearn.metrics import confusion_matrix\n",
    "from sklearn.metrics import ConfusionMatrixDisplay\n",
    "from sklearn.metrics import classification_report\n",
    "\n",
    "cm = confusion_matrix(y_true, y_pred)\n",
    "cm_display = ConfusionMatrixDisplay(cm).plot()\n",
    "plt.savefig(os.path.join(log_dir, 'confusion_matrix.png'))\n",
    "plt.show()\n",
    "\n",
    "# Classification report\n",
    "report = classification_report(y_true, y_pred)\n",
    "print(report)\n",
    "# save the classification report\n",
    "with open(os.path.join(log_dir, 'classification_report.txt'), 'w') as f:\n",
    "    f.write(report)\n",
    "    \n"
   ],
   "metadata": {
    "collapsed": false,
    "ExecuteTime": {
     "end_time": "2023-12-31T17:32:53.863346406Z",
     "start_time": "2023-12-31T17:32:53.517009886Z"
    }
   },
   "id": "aac017d28b6aa626",
   "execution_count": 28
  },
  {
   "cell_type": "code",
   "outputs": [],
   "source": [
    "# Close the writer\n",
    "writer.flush()\n",
    "writer.close()"
   ],
   "metadata": {
    "collapsed": false,
    "ExecuteTime": {
     "end_time": "2023-12-31T17:32:53.867207375Z",
     "start_time": "2023-12-31T17:32:53.864566907Z"
    }
   },
   "id": "933039ffb09b144e",
   "execution_count": 29
  },
  {
   "cell_type": "code",
   "outputs": [
    {
     "name": "stdout",
     "output_type": "stream",
     "text": [
      "Done!\n"
     ]
    }
   ],
   "source": [
    "# Release GPU memory cache\n",
    "torch.cuda.empty_cache()\n",
    "\n",
    "# Release model from GPU memory\n",
    "model = model.to('cpu')\n",
    "model = None\n",
    "\n",
    "# release all loaded data\n",
    "data_vis = None\n",
    "target_vis = None\n",
    "data = None\n",
    "target = None\n",
    "data_loader = None\n",
    "data_loader_vis = None\n",
    "test_data = None\n",
    "test_data_vis = None\n",
    "test_loader = None\n",
    "test_loader_vis = None\n",
    "\n",
    "print('Done!')"
   ],
   "metadata": {
    "collapsed": false,
    "ExecuteTime": {
     "end_time": "2023-12-31T17:32:53.879530283Z",
     "start_time": "2023-12-31T17:32:53.868378101Z"
    }
   },
   "id": "246babdf15688305",
   "execution_count": 30
  }
 ],
 "metadata": {
  "kernelspec": {
   "display_name": "Python 3",
   "language": "python",
   "name": "python3"
  },
  "language_info": {
   "codemirror_mode": {
    "name": "ipython",
    "version": 2
   },
   "file_extension": ".py",
   "mimetype": "text/x-python",
   "name": "python",
   "nbconvert_exporter": "python",
   "pygments_lexer": "ipython2",
   "version": "2.7.6"
  }
 },
 "nbformat": 4,
 "nbformat_minor": 5
}
