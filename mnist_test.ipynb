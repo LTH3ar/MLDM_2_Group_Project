{
 "cells": [
  {
   "cell_type": "markdown",
   "source": [
    "Import libraries"
   ],
   "metadata": {
    "collapsed": false
   },
   "id": "cdb58413bb48c161"
  },
  {
   "cell_type": "code",
   "execution_count": 114,
   "outputs": [],
   "source": [
    "# import libraries\n",
    "from sklearn.datasets import load_digits\n",
    "from sklearn.model_selection import train_test_split\n",
    "from sklearn import metrics\n",
    "from matplotlib import pyplot as plt\n",
    "import numpy as np\n",
    "import pandas as pd\n",
    "import seaborn as sns\n",
    "from sklearn.preprocessing import StandardScaler\n",
    "import cv2\n",
    "import joblib\n",
    "import os\n",
    "\n",
    "import tensorflow as tf\n",
    "from tensorflow import keras\n",
    "from tensorflow.keras import layers\n",
    "import torch\n",
    "import torchvision.transforms as transforms\n",
    "from torch.utils.data import DataLoader, TensorDataset"
   ],
   "metadata": {
    "collapsed": true,
    "ExecuteTime": {
     "end_time": "2023-12-28T03:33:56.269903Z",
     "start_time": "2023-12-28T03:33:56.264530Z"
    }
   },
   "id": "initial_id"
  },
  {
   "cell_type": "code",
   "execution_count": 115,
   "outputs": [
    {
     "name": "stdout",
     "output_type": "stream",
     "text": [
      "Num GPUs Available:  0\n",
      "Tensorflow version:  2.15.0\n",
      "Pytorch version:  2.1.2\n"
     ]
    }
   ],
   "source": [
    "# check hardware(add mac gpu support)\n",
    "print(\"Num GPUs Available: \", len(tf.config.list_physical_devices('GPU')))\n",
    "\n",
    "# check software\n",
    "print(\"Tensorflow version: \", tf.__version__)\n",
    "print(\"Pytorch version: \", torch.__version__)"
   ],
   "metadata": {
    "collapsed": false,
    "ExecuteTime": {
     "end_time": "2023-12-28T03:33:57.031282Z",
     "start_time": "2023-12-28T03:33:57.029374Z"
    }
   },
   "id": "d2fbbc11e8ba80f0"
  },
  {
   "cell_type": "code",
   "execution_count": 116,
   "outputs": [],
   "source": [
    "# reset when needed\n",
    "tf.keras.backend.clear_session()\n",
    "torch.cuda.empty_cache()"
   ],
   "metadata": {
    "collapsed": false,
    "ExecuteTime": {
     "end_time": "2023-12-28T03:33:58.223313Z",
     "start_time": "2023-12-28T03:33:58.220336Z"
    }
   },
   "id": "f925e9f3a2a3a4fc"
  },
  {
   "cell_type": "code",
   "execution_count": 117,
   "outputs": [],
   "source": [
    "# load data\n",
    "digits = load_digits(n_class=10, as_frame=True)"
   ],
   "metadata": {
    "collapsed": false,
    "ExecuteTime": {
     "end_time": "2023-12-28T03:34:07.993058Z",
     "start_time": "2023-12-28T03:34:07.981015Z"
    }
   },
   "id": "2f9315a1c8e9df07"
  },
  {
   "cell_type": "code",
   "execution_count": 118,
   "outputs": [
    {
     "name": "stdout",
     "output_type": "stream",
     "text": [
      ".. _digits_dataset:\n",
      "\n",
      "Optical recognition of handwritten digits dataset\n",
      "--------------------------------------------------\n",
      "\n",
      "**Data Set Characteristics:**\n",
      "\n",
      "    :Number of Instances: 1797\n",
      "    :Number of Attributes: 64\n",
      "    :Attribute Information: 8x8 image of integer pixels in the range 0..16.\n",
      "    :Missing Attribute Values: None\n",
      "    :Creator: E. Alpaydin (alpaydin '@' boun.edu.tr)\n",
      "    :Date: July; 1998\n",
      "\n",
      "This is a copy of the test set of the UCI ML hand-written digits datasets\n",
      "https://archive.ics.uci.edu/ml/datasets/Optical+Recognition+of+Handwritten+Digits\n",
      "\n",
      "The data set contains images of hand-written digits: 10 classes where\n",
      "each class refers to a digit.\n",
      "\n",
      "Preprocessing programs made available by NIST were used to extract\n",
      "normalized bitmaps of handwritten digits from a preprinted form. From a\n",
      "total of 43 people, 30 contributed to the training set and different 13\n",
      "to the test set. 32x32 bitmaps are divided into nonoverlapping blocks of\n",
      "4x4 and the number of on pixels are counted in each block. This generates\n",
      "an input matrix of 8x8 where each element is an integer in the range\n",
      "0..16. This reduces dimensionality and gives invariance to small\n",
      "distortions.\n",
      "\n",
      "For info on NIST preprocessing routines, see M. D. Garris, J. L. Blue, G.\n",
      "T. Candela, D. L. Dimmick, J. Geist, P. J. Grother, S. A. Janet, and C.\n",
      "L. Wilson, NIST Form-Based Handprint Recognition System, NISTIR 5469,\n",
      "1994.\n",
      "\n",
      "|details-start|\n",
      "**References**\n",
      "|details-split|\n",
      "\n",
      "- C. Kaynak (1995) Methods of Combining Multiple Classifiers and Their\n",
      "  Applications to Handwritten Digit Recognition, MSc Thesis, Institute of\n",
      "  Graduate Studies in Science and Engineering, Bogazici University.\n",
      "- E. Alpaydin, C. Kaynak (1998) Cascading Classifiers, Kybernetika.\n",
      "- Ken Tang and Ponnuthurai N. Suganthan and Xi Yao and A. Kai Qin.\n",
      "  Linear dimensionalityreduction using relevance weighted LDA. School of\n",
      "  Electrical and Electronic Engineering Nanyang Technological University.\n",
      "  2005.\n",
      "- Claudio Gentile. A New Approximate Maximal Margin Classification\n",
      "  Algorithm. NIPS. 2000.\n",
      "\n",
      "|details-end|\n"
     ]
    }
   ],
   "source": [
    "# dataset info\n",
    "print(digits.DESCR)"
   ],
   "metadata": {
    "collapsed": false,
    "ExecuteTime": {
     "end_time": "2023-12-28T03:34:09.558876Z",
     "start_time": "2023-12-28T03:34:09.556688Z"
    }
   },
   "id": "972e5335fe94b9ce"
  },
  {
   "cell_type": "markdown",
   "source": [
    "Preprocess data"
   ],
   "metadata": {
    "collapsed": false
   },
   "id": "929bfd5d717ae11f"
  },
  {
   "cell_type": "code",
   "execution_count": 119,
   "outputs": [],
   "source": [
    "# split data\n",
    "X_train, X_test, y_train, y_test = train_test_split(digits.data, digits.target, test_size=0.2, random_state=42)"
   ],
   "metadata": {
    "collapsed": false,
    "ExecuteTime": {
     "end_time": "2023-12-28T03:34:11.682443Z",
     "start_time": "2023-12-28T03:34:11.675982Z"
    }
   },
   "id": "26e71d0516c96bca"
  },
  {
   "cell_type": "code",
   "execution_count": 120,
   "outputs": [],
   "source": [
    "# standardize data\n",
    "scaler = StandardScaler()\n",
    "X_train = scaler.fit_transform(X_train)\n",
    "X_test = scaler.transform(X_test)"
   ],
   "metadata": {
    "collapsed": false,
    "ExecuteTime": {
     "end_time": "2023-12-28T03:34:12.752665Z",
     "start_time": "2023-12-28T03:34:12.745468Z"
    }
   },
   "id": "62fcf2525f75f124"
  },
  {
   "cell_type": "markdown",
   "source": [
    "Logistic Regression"
   ],
   "metadata": {
    "collapsed": false
   },
   "id": "1498c938d3c7cce8"
  },
  {
   "cell_type": "code",
   "execution_count": null,
   "outputs": [],
   "source": [
    "# Logistic Regression\n",
    "from sklearn.linear_model import LogisticRegression\n",
    "logreg = LogisticRegression()\n",
    "logreg.fit(X_train, y_train)\n",
    "y_pred = logreg.predict(X_test)\n",
    "print(\"Accuracy: \", metrics.accuracy_score(y_test, y_pred))\n",
    "\n",
    "# Report\n",
    "print(metrics.classification_report(y_test, y_pred))\n",
    "\n",
    "# plot confusion matrix\n",
    "cm = metrics.confusion_matrix(y_test, y_pred)\n",
    "plt.figure(figsize=(9,9))\n",
    "sns.heatmap(cm, annot=True, linewidths=.5, square=True, cmap='Blues_r')\n",
    "plt.ylabel('Actual label')\n",
    "plt.xlabel('Predicted label')\n",
    "all_sample_title = 'Accuracy Score: {0}'.format(metrics.accuracy_score(y_test, y_pred))\n",
    "plt.title(all_sample_title, size=15)\n",
    "plt.show()\n",
    "\n",
    "# save the output\n",
    "# make a directory for output \"LogisticRegression\"\n",
    "if not os.path.exists('LogisticRegression'):\n",
    "    os.makedirs('LogisticRegression')\n",
    "# save the output\n",
    "np.savetxt('LogisticRegression/y_pred.csv', y_pred, delimiter=',')\n",
    "np.savetxt('LogisticRegression/y_test.csv', y_test, delimiter=',')\n",
    "# save the confusion matrix image\n",
    "# Get the current figure from Seaborn\n",
    "fig = plt.gcf()\n",
    "# save the figure\n",
    "fig.savefig('LogisticRegression/confusion_matrix.png')\n",
    "\n",
    "# save confusion matrix data\n",
    "df_cm = pd.DataFrame(cm)\n",
    "df_cm.to_csv('LogisticRegression/confusion_matrix.csv')\n",
    "# save model\n",
    "joblib.dump(logreg, 'LogisticRegression/logreg_model_sklearn_v1.pkl')\n",
    "# save terminal output\n",
    "with open('LogisticRegression/log.txt', 'w') as f:\n",
    "    f.write(\"Accuracy: \" + str(metrics.accuracy_score(y_test, y_pred)) + \"\\n\")\n",
    "    f.write(metrics.classification_report(y_test, y_pred))"
   ],
   "metadata": {
    "collapsed": false
   },
   "id": "ca5a5b7b821b8fdb"
  },
  {
   "cell_type": "markdown",
   "source": [
    "SVM"
   ],
   "metadata": {
    "collapsed": false
   },
   "id": "e063e8f770ee9f43"
  },
  {
   "cell_type": "code",
   "execution_count": null,
   "outputs": [],
   "source": [
    "# SVM\n",
    "from sklearn.svm import SVC\n",
    "svm = SVC()\n",
    "svm.fit(X_train, y_train)\n",
    "y_pred = svm.predict(X_test)\n",
    "print(\"Accuracy: \", metrics.accuracy_score(y_test, y_pred))\n",
    "\n",
    "# Report\n",
    "print(metrics.classification_report(y_test, y_pred))\n",
    "\n",
    "# plot confusion matrix\n",
    "cm = metrics.confusion_matrix(y_test, y_pred)\n",
    "plt.figure(figsize=(9,9))\n",
    "sns.heatmap(cm, annot=True, linewidths=.5, square=True, cmap='Blues_r')\n",
    "plt.ylabel('Actual label')\n",
    "plt.xlabel('Predicted label')\n",
    "all_sample_title = 'Accuracy Score: {0}'.format(metrics.accuracy_score(y_test, y_pred))\n",
    "plt.title(all_sample_title, size=15)\n",
    "plt.show()\n",
    "\n",
    "# save the output\n",
    "# make a directory for output \"SVM\"\n",
    "if not os.path.exists('SVM'):\n",
    "    os.makedirs('SVM')\n",
    "    \n",
    "# save the output\n",
    "np.savetxt('SVM/y_pred.csv', y_pred, delimiter=',')\n",
    "np.savetxt('SVM/y_test.csv', y_test, delimiter=',')\n",
    "# save the confusion matrix image\n",
    "# Get the current figure from Seaborn\n",
    "fig = plt.gcf()\n",
    "# save the figure\n",
    "fig.savefig('SVM/confusion_matrix.png')\n",
    "\n",
    "# save confusion matrix data\n",
    "df_cm = pd.DataFrame(cm)\n",
    "df_cm.to_csv('SVM/confusion_matrix.csv')\n",
    "# save model\n",
    "joblib.dump(svm, 'SVM/svm_model_sklearn_v1.pkl')\n",
    "# save terminal output\n",
    "with open('SVM/log.txt', 'w') as f:\n",
    "    f.write(\"Accuracy: \" + str(metrics.accuracy_score(y_test, y_pred)) + \"\\n\")\n",
    "    f.write(metrics.classification_report(y_test, y_pred))"
   ],
   "metadata": {
    "collapsed": false
   },
   "id": "3dc7c2fdf292e97d"
  },
  {
   "cell_type": "markdown",
   "source": [
    "Random Forest"
   ],
   "metadata": {
    "collapsed": false
   },
   "id": "42889bb7282a1197"
  },
  {
   "cell_type": "code",
   "execution_count": null,
   "outputs": [],
   "source": [
    "# Random Forest\n",
    "from sklearn.ensemble import RandomForestClassifier\n",
    "rf = RandomForestClassifier()\n",
    "rf.fit(X_train, y_train)\n",
    "y_pred = rf.predict(X_test)\n",
    "print(\"Accuracy: \", metrics.accuracy_score(y_test, y_pred))\n",
    "\n",
    "# Report\n",
    "print(metrics.classification_report(y_test, y_pred))\n",
    "\n",
    "# plot confusion matrix\n",
    "cm = metrics.confusion_matrix(y_test, y_pred)\n",
    "plt.figure(figsize=(9,9))\n",
    "sns.heatmap(cm, annot=True, linewidths=.5, square=True, cmap='Blues_r')\n",
    "plt.ylabel('Actual label')\n",
    "plt.xlabel('Predicted label')\n",
    "all_sample_title = 'Accuracy Score: {0}'.format(metrics.accuracy_score(y_test, y_pred))\n",
    "plt.title(all_sample_title, size=15)\n",
    "plt.show()\n",
    "\n",
    "# save the output\n",
    "# make a directory for output \"RandomForest\"\n",
    "if not os.path.exists('RandomForest'):\n",
    "    os.makedirs('RandomForest')\n",
    "    \n",
    "# save the output\n",
    "np.savetxt('RandomForest/y_pred.csv', y_pred, delimiter=',')\n",
    "np.savetxt('RandomForest/y_test.csv', y_test, delimiter=',')\n",
    "# save the confusion matrix image\n",
    "# Get the current figure from Seaborn\n",
    "fig = plt.gcf()\n",
    "# save the figure\n",
    "fig.savefig('RandomForest/confusion_matrix.png')\n",
    "\n",
    "# save confusion matrix data\n",
    "df_cm = pd.DataFrame(cm)\n",
    "df_cm.to_csv('RandomForest/confusion_matrix.csv')\n",
    "# save model\n",
    "joblib.dump(rf, 'RandomForest/rf_model_sklearn_v1.pkl')\n",
    "# save terminal output\n",
    "with open('RandomForest/log.txt', 'w') as f:\n",
    "    f.write(\"Accuracy: \" + str(metrics.accuracy_score(y_test, y_pred)) + \"\\n\")\n",
    "    f.write(metrics.classification_report(y_test, y_pred))"
   ],
   "metadata": {
    "collapsed": false
   },
   "id": "6177f3f4c06752c6"
  },
  {
   "cell_type": "markdown",
   "source": [
    "KNN"
   ],
   "metadata": {
    "collapsed": false
   },
   "id": "7cd2853d806f2163"
  },
  {
   "cell_type": "code",
   "execution_count": null,
   "outputs": [],
   "source": [
    "# KNN\n",
    "from sklearn.neighbors import KNeighborsClassifier\n",
    "knn = KNeighborsClassifier()\n",
    "knn.fit(X_train, y_train)\n",
    "y_pred = knn.predict(X_test)\n",
    "print(\"Accuracy: \", metrics.accuracy_score(y_test, y_pred))\n",
    "\n",
    "# Report\n",
    "print(metrics.classification_report(y_test, y_pred))\n",
    "\n",
    "# plot confusion matrix\n",
    "cm = metrics.confusion_matrix(y_test, y_pred)\n",
    "plt.figure(figsize=(9,9))\n",
    "sns.heatmap(cm, annot=True, linewidths=.5, square=True, cmap='Blues_r')\n",
    "plt.ylabel('Actual label')\n",
    "plt.xlabel('Predicted label')\n",
    "all_sample_title = 'Accuracy Score: {0}'.format(metrics.accuracy_score(y_test, y_pred))\n",
    "plt.title(all_sample_title, size=15)\n",
    "plt.show()\n",
    "\n",
    "# save the output\n",
    "# make a directory for output \"KNN\"\n",
    "if not os.path.exists('KNN'):\n",
    "    os.makedirs('KNN')\n",
    "    \n",
    "# save the output\n",
    "np.savetxt('KNN/y_pred.csv', y_pred, delimiter=',')\n",
    "np.savetxt('KNN/y_test.csv', y_test, delimiter=',')\n",
    "# save the confusion matrix image\n",
    "# Get the current figure from Seaborn\n",
    "fig = plt.gcf()\n",
    "# save the figure\n",
    "fig.savefig('KNN/confusion_matrix.png')\n",
    "\n",
    "# save confusion matrix data\n",
    "df_cm = pd.DataFrame(cm)\n",
    "df_cm.to_csv('KNN/confusion_matrix.csv')\n",
    "# save model\n",
    "joblib.dump(knn, 'KNN/knn_model_sklearn_v1.pkl')\n",
    "# save terminal output\n",
    "with open('KNN/log.txt', 'w') as f:\n",
    "    f.write(\"Accuracy: \" + str(metrics.accuracy_score(y_test, y_pred)) + \"\\n\")\n",
    "    f.write(metrics.classification_report(y_test, y_pred))"
   ],
   "metadata": {
    "collapsed": false
   },
   "id": "f65df42a47e3da97"
  },
  {
   "cell_type": "markdown",
   "source": [
    "reshape data to 1 dimension"
   ],
   "metadata": {
    "collapsed": false
   },
   "id": "2bcdcc012c0e3ad0"
  },
  {
   "cell_type": "code",
   "execution_count": 123,
   "outputs": [],
   "source": [
    "# reshape data to 1 dimension\n",
    "X_train = X_train.reshape(len(X_train),-1)\n",
    "X_test = X_test.reshape(len(X_test),-1)\n",
    "\n",
    "# normalize the data to 0 - 1\n",
    "X_train = X_train.astype('float32') / 255\n",
    "X_test = X_test.astype('float32') / 255"
   ],
   "metadata": {
    "collapsed": false,
    "ExecuteTime": {
     "end_time": "2023-12-28T03:36:11.897295Z",
     "start_time": "2023-12-28T03:36:11.895229Z"
    }
   },
   "id": "aed163bd4431e8a6"
  }
 ],
 "metadata": {
  "kernelspec": {
   "display_name": "Python 3",
   "language": "python",
   "name": "python3"
  },
  "language_info": {
   "codemirror_mode": {
    "name": "ipython",
    "version": 2
   },
   "file_extension": ".py",
   "mimetype": "text/x-python",
   "name": "python",
   "nbconvert_exporter": "python",
   "pygments_lexer": "ipython2",
   "version": "2.7.6"
  }
 },
 "nbformat": 4,
 "nbformat_minor": 5
}
